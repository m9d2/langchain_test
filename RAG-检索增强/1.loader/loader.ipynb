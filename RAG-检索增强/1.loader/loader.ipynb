{
 "cells": [
  {
   "cell_type": "code",
   "execution_count": 2,
   "metadata": {
    "collapsed": false
   },
   "outputs": [
    {
     "name": "stderr",
     "output_type": "stream",
     "text": [
      "libmagic is unavailable but assists in filetype detection. Please consider installing libmagic for better results.\n"
     ]
    },
    {
     "data": {
      "text/plain": [
       "[Document(metadata={'source': 'loader.txt'}, page_content='loader = \"This is the loader file.\"')]"
      ]
     },
     "execution_count": 2,
     "metadata": {},
     "output_type": "execute_result"
    }
   ],
   "source": [
    "from langchain_community.document_loaders import DirectoryLoader\n",
    "\n",
    "loader = DirectoryLoader(\"./\", glob=\"*.txt\")\n",
    "loader.load()"
   ]
  },
  {
   "cell_type": "markdown",
   "metadata": {},
   "source": [
    "### load txt"
   ]
  },
  {
   "cell_type": "code",
   "execution_count": 3,
   "metadata": {},
   "outputs": [
    {
     "data": {
      "text/plain": [
       "[Document(metadata={'source': 'loader.txt'}, page_content='loader = \"This is the loader file.\"')]"
      ]
     },
     "execution_count": 3,
     "metadata": {},
     "output_type": "execute_result"
    }
   ],
   "source": [
    "from langchain_community.document_loaders import TextLoader\n",
    "\n",
    "loader = TextLoader(\"loader.txt\")\n",
    "loader.load()"
   ]
  },
  {
   "cell_type": "markdown",
   "metadata": {},
   "source": [
    "### load pdf"
   ]
  },
  {
   "cell_type": "code",
   "execution_count": 6,
   "metadata": {},
   "outputs": [
    {
     "name": "stderr",
     "output_type": "stream",
     "text": [
      "Ignoring wrong pointing object 6 0 (offset 0)\n",
      "Ignoring wrong pointing object 8 0 (offset 0)\n"
     ]
    },
    {
     "data": {
      "text/plain": [
       "'一、体育场地信息化系统 体育场地信息化系统是一种 数字化管理和运营 解决方案，主要用于 体育场馆、健身中心、学校体育设施 以及各类户外运动场地。它结合 物联网 (IoT)、大数据、云计算、人工智能 (AI) 和移动互联网，实现 智能管理、自动化运营和数据分析，提高场馆的使用效率和用户体验。 核心功能： 1、场地预约与管理 • 线上预订：用户可通过 PC、APP、小程序 预约场地，支持 时间段选择、支付预订。 • 智能排期：自动分配场地，避免冲突，提高使用率。 • 预约提醒：短信/微信/邮件提醒用户即将到达预订时间。 2、设备物联网管理 • 智能门禁：预约成功后，用户可通过 刷脸、扫码、IC 卡 进入场馆。 • 照明与空调控制：自动控制灯光、空调，节省能源。 • 传感器监测：监测 温湿度、PM2.5、场地占用情况，提供舒适的运动环境。 3、会员与用户管理 • 会员系统：支持 会员等级、积分兑换、优惠券 等营销手段。 • 用户行为分析：记录用户的运动习惯，提供个性化推荐。 • 投诉与反馈：用户可在线提交问题，客服智能处理。 4、收费与财务管理 • 多种支付方式：支持 微信、支付宝、银行卡，甚至 数字人民币。 • 智能计费：按照 时间、人数、场地类型 计算费用，提高收费透明度。 • 财务统计：自动生成 收入、支出、财务报表，便于管理。 5、数据分析与智能决策 • 场地利用率分析：统计各个场地的使用频率，优化排期。'"
      ]
     },
     "execution_count": 6,
     "metadata": {},
     "output_type": "execute_result"
    }
   ],
   "source": [
    "from langchain_community.document_loaders import PyPDFLoader\n",
    "\n",
    "loader = PyPDFLoader(\"loader.pdf\")\n",
    "page = loader.load_and_split()\n",
    "page[0].page_content"
   ]
  }
 ],
 "metadata": {
  "kernelspec": {
   "display_name": "3.13.2",
   "language": "python",
   "name": "python3"
  },
  "language_info": {
   "codemirror_mode": {
    "name": "ipython",
    "version": 3
   },
   "file_extension": ".py",
   "mimetype": "text/x-python",
   "name": "python",
   "nbconvert_exporter": "python",
   "pygments_lexer": "ipython3",
   "version": "3.13.2"
  }
 },
 "nbformat": 4,
 "nbformat_minor": 0
}
